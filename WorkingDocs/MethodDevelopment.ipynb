{
 "cells": [
  {
   "cell_type": "markdown",
   "metadata": {},
   "source": [
    "Author: Yoseph Loyd\n",
    "Date 20241212\n",
    "\n",
    "Developement of a means to segment capilarries in tissue images. This is intended to be ported through the ChimeraX visualizer."
   ]
  },
  {
   "cell_type": "markdown",
   "metadata": {},
   "source": [
    "###initial commands for ChimaraX input test date###\n",
    "\n",
    "open \"C:/Users/LoydY/OneDrive - SUNY Upstate Medical University/Documents/20240917_006/006_decon_podocyte.tif\";\n",
    "volume #1 style surface step 2 level 1.449e+04;\n",
    "\n",
    "volume #1 voxelSize 1,1,1.52;\n",
    "marker #2 position 554.9,779.1,71.11 color yellow radius 1;\n",
    "lighting depthcue false;\n",
    "\n",
    "ui tool show shell"
   ]
  },
  {
   "cell_type": "markdown",
   "metadata": {},
   "source": [
    "Python functions imports"
   ]
  },
  {
   "cell_type": "code",
   "execution_count": null,
   "metadata": {},
   "outputs": [],
   "source": [
    "from chimerax.map_data import ArrayGridData \n",
    "from chimerax.map import volume_from_grid_data\n",
    "import itertools\n",
    "import numpy\n",
    "import scipy\n",
    "import skimage"
   ]
  },
  {
   "cell_type": "markdown",
   "metadata": {},
   "source": [
    "Identification and rescaling of imagein ChimeraX ENV."
   ]
  },
  {
   "cell_type": "code",
   "execution_count": null,
   "metadata": {},
   "outputs": [],
   "source": [
    "y=session.models[2].volume.full_matrix().copy()\n",
    "p= session.models[3].atoms.coords\n",
    "p=numpy.round(p).astype('int')\n",
    "\n",
    "matrix=numpy.zeros((numpy.shape(y)))\n",
    "a=numpy.linspace(p[0,0]-80,p[0,0]+80, 161)\n",
    "b=numpy.linspace(p[0,1]-80,p[0,1]+80, 161)\n",
    "c=numpy.linspace((p[0,2]/1.5)-44,(p[0,2]/1.5)+27, 72)\n",
    "\n",
    "q=numpy.array(list(itertools.product(*(a,b,c),repeat=1)),dtype='int')\n",
    "w=numpy.split(q,3,1)\n",
    "matrix[w[2],w[1],w[0]]=1\n",
    "mask=ArrayGridData(matrix,step=(1,1,1.5))\n",
    "volume_from_grid_data(mask,session)"
   ]
  },
  {
   "cell_type": "markdown",
   "metadata": {},
   "source": [
    "Using the Bernsens auto thresholding approach I'll segement capillary walls in the ROI while using an auto global contrast threshold variable."
   ]
  },
  {
   "cell_type": "code",
   "execution_count": null,
   "metadata": {},
   "outputs": [],
   "source": [
    "\n",
    "welp=matrix*y\n",
    "welp[welp==0] = numpy.nan\n",
    "\n",
    "radius=3\n",
    "help= numpy.zeros(numpy.shape(welp))\n",
    "for h in range(numpy.min(w[2]),numpy.max(w[2])):\n",
    "    for g in range(numpy.min(w[1]),numpy.max(w[1])):\n",
    "        for f in range(numpy.min(w[0]),numpy.max(w[0])):\n",
    "            fl=numpy.int32(numpy.linspace(f-radius,radius+f, 2*radius+1))-1\n",
    "            gl=numpy.int32(numpy.linspace(g-radius,radius+g, 2*radius+1))-1\n",
    "            hl=numpy.int32(numpy.linspace(h-radius,radius+h, 2*radius+1))-1\n",
    "            if numpy.isnan((welp[hl,gl,fl].all()))==False:\n",
    "                standardD = numpy.nanstd(welp[hl,gl,fl])*0.15\n",
    "                Thresh= ((numpy.nanmax(welp[hl,gl,fl])-numpy.nanmin(welp[hl,gl,fl]))/2)+standardD\n",
    "                contrast= (numpy.nanmax(welp[hl,gl,fl])-numpy.nanmin(welp[hl,gl,fl]))\n",
    "            else:\n",
    "                help = numpy.nan\n",
    "            \n",
    "            if  welp[h,g,f] < contrast:\n",
    "                welp[h,g,f]= 0\n",
    "            else:\n",
    "                welp[h,g,f]= welp[h,g,f]\n",
    "            \n",
    "            if welp[h,g,f] >= (Thresh):\n",
    "                help[h,g,f]= 1\n",
    "            else:\n",
    "                help[h,g,f]=0"
   ]
  }
 ],
 "metadata": {
  "language_info": {
   "name": "python"
  }
 },
 "nbformat": 4,
 "nbformat_minor": 2
}
